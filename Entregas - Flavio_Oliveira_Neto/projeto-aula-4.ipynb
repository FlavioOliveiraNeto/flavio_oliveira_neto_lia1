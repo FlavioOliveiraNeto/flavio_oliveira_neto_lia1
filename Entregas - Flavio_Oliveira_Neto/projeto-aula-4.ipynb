{
 "cells": [
  {
   "cell_type": "markdown",
   "id": "deda3b0f",
   "metadata": {
    "papermill": {
     "duration": 0.006821,
     "end_time": "2024-03-27T20:04:31.484750",
     "exception": false,
     "start_time": "2024-03-27T20:04:31.477929",
     "status": "completed"
    },
    "tags": []
   },
   "source": [
    "<hr style=\"height:10px\"> \n",
    " \n",
    "<div class='container2'>\n",
    "\t\t<div>\n",
    "\t\t\t<img src='https://img.freepik.com/vetores-gratis/ilustracao-de-social-midia-conceito_53876-18140.jpg?size=626&ext=jpg&ga=GA1.1.2082370165.1711065600&semt=ais' ALIGN='left' style='width:10em'>\n",
    "\t\t</div>\t\n",
    "\t<div style='padding: 0 7em 2em 12em;'>\n",
    "\t<h1>Laboratório de Inovação e Automação 1 (LIA 1)</h1>\n",
    "\t<div style=\"font-size:12pt;float:left;\"> 2023/1 | 46M34 | Sala 200 CAE</div><br><br>\n",
    "    <div style=\"font-size:12pt;float:left;\"><b>Projetos de Inteligência Artificial</b></div>\n",
    "\t</div>\n",
    "</div>\n",
    "\n",
    "\n",
    " <hr style=\"height:5px\"> \n",
    "\n",
    "    \n",
    "<h2>Aula 7 - Introdução à Ciência de Dados - Iris Dataset</h2>\n",
    "\n",
    "Notebook desenvolvido por: <a href=\"https://github.com/FlavioOliveiraNeto\">Flavio de Oliveira Neto</a>\n",
    "\n",
    " <hr style=\"height:2px\">"
   ]
  },
  {
   "cell_type": "markdown",
   "id": "efa8d49c",
   "metadata": {
    "papermill": {
     "duration": 0.005622,
     "end_time": "2024-03-27T20:04:31.496595",
     "exception": false,
     "start_time": "2024-03-27T20:04:31.490973",
     "status": "completed"
    },
    "tags": []
   },
   "source": [
    "## Versão do Python e teste de funcionamento"
   ]
  },
  {
   "cell_type": "code",
   "execution_count": 1,
   "id": "514a2539",
   "metadata": {
    "execution": {
     "iopub.execute_input": "2024-03-27T20:04:31.510706Z",
     "iopub.status.busy": "2024-03-27T20:04:31.510278Z",
     "iopub.status.idle": "2024-03-27T20:04:31.524787Z",
     "shell.execute_reply": "2024-03-27T20:04:31.523475Z"
    },
    "papermill": {
     "duration": 0.024673,
     "end_time": "2024-03-27T20:04:31.527224",
     "exception": false,
     "start_time": "2024-03-27T20:04:31.502551",
     "status": "completed"
    },
    "tags": []
   },
   "outputs": [
    {
     "name": "stdout",
     "output_type": "stream",
     "text": [
      "A versão em uso é 3.10.13.\n"
     ]
    }
   ],
   "source": [
    "from platform import python_version\n",
    "print(f'A versão em uso é {python_version()}.')"
   ]
  },
  {
   "cell_type": "code",
   "execution_count": 2,
   "id": "ca2846c3",
   "metadata": {
    "execution": {
     "iopub.execute_input": "2024-03-27T20:04:31.541665Z",
     "iopub.status.busy": "2024-03-27T20:04:31.541259Z",
     "iopub.status.idle": "2024-03-27T20:04:31.546931Z",
     "shell.execute_reply": "2024-03-27T20:04:31.545751Z"
    },
    "papermill": {
     "duration": 0.016281,
     "end_time": "2024-03-27T20:04:31.549847",
     "exception": false,
     "start_time": "2024-03-27T20:04:31.533566",
     "status": "completed"
    },
    "tags": []
   },
   "outputs": [
    {
     "name": "stdout",
     "output_type": "stream",
     "text": [
      "Bye bye, World!\n"
     ]
    }
   ],
   "source": [
    "print('Bye bye, World!')"
   ]
  },
  {
   "cell_type": "markdown",
   "id": "481fa848",
   "metadata": {
    "papermill": {
     "duration": 0.00584,
     "end_time": "2024-03-27T20:04:31.561912",
     "exception": false,
     "start_time": "2024-03-27T20:04:31.556072",
     "status": "completed"
    },
    "tags": []
   },
   "source": [
    "## Tipo de Dados (Type)"
   ]
  },
  {
   "cell_type": "code",
   "execution_count": 3,
   "id": "3a7bea8a",
   "metadata": {
    "execution": {
     "iopub.execute_input": "2024-03-27T20:04:31.576028Z",
     "iopub.status.busy": "2024-03-27T20:04:31.575642Z",
     "iopub.status.idle": "2024-03-27T20:04:31.583948Z",
     "shell.execute_reply": "2024-03-27T20:04:31.582867Z"
    },
    "papermill": {
     "duration": 0.018173,
     "end_time": "2024-03-27T20:04:31.586359",
     "exception": false,
     "start_time": "2024-03-27T20:04:31.568186",
     "status": "completed"
    },
    "tags": []
   },
   "outputs": [
    {
     "data": {
      "text/plain": [
       "int"
      ]
     },
     "execution_count": 3,
     "metadata": {},
     "output_type": "execute_result"
    }
   ],
   "source": [
    "# Qual o tipo do (?) -> Inteiro\n",
    "type(5)"
   ]
  },
  {
   "cell_type": "code",
   "execution_count": 4,
   "id": "f9b28007",
   "metadata": {
    "execution": {
     "iopub.execute_input": "2024-03-27T20:04:31.600829Z",
     "iopub.status.busy": "2024-03-27T20:04:31.600457Z",
     "iopub.status.idle": "2024-03-27T20:04:31.606948Z",
     "shell.execute_reply": "2024-03-27T20:04:31.605753Z"
    },
    "papermill": {
     "duration": 0.017053,
     "end_time": "2024-03-27T20:04:31.609764",
     "exception": false,
     "start_time": "2024-03-27T20:04:31.592711",
     "status": "completed"
    },
    "tags": []
   },
   "outputs": [
    {
     "data": {
      "text/plain": [
       "float"
      ]
     },
     "execution_count": 4,
     "metadata": {},
     "output_type": "execute_result"
    }
   ],
   "source": [
    "# Qual o tipo do (?) -> Float - Decimal\n",
    "type(5.0)"
   ]
  },
  {
   "cell_type": "markdown",
   "id": "d6af607c",
   "metadata": {
    "papermill": {
     "duration": 0.006854,
     "end_time": "2024-03-27T20:04:31.623445",
     "exception": false,
     "start_time": "2024-03-27T20:04:31.616591",
     "status": "completed"
    },
    "tags": []
   },
   "source": [
    "## Condicional If"
   ]
  },
  {
   "cell_type": "code",
   "execution_count": 5,
   "id": "8fb1c612",
   "metadata": {
    "execution": {
     "iopub.execute_input": "2024-03-27T20:04:31.638181Z",
     "iopub.status.busy": "2024-03-27T20:04:31.637765Z",
     "iopub.status.idle": "2024-03-27T20:04:31.644108Z",
     "shell.execute_reply": "2024-03-27T20:04:31.642729Z"
    },
    "papermill": {
     "duration": 0.017221,
     "end_time": "2024-03-27T20:04:31.647203",
     "exception": false,
     "start_time": "2024-03-27T20:04:31.629982",
     "status": "completed"
    },
    "tags": []
   },
   "outputs": [
    {
     "name": "stdout",
     "output_type": "stream",
     "text": [
      "A sentença é verdadeira!\n"
     ]
    }
   ],
   "source": [
    "# Condicional if (Se)\n",
    "if 5 > 2:\n",
    "    print(\"A sentença é verdadeira!\")"
   ]
  },
  {
   "cell_type": "code",
   "execution_count": 6,
   "id": "caaa5626",
   "metadata": {
    "execution": {
     "iopub.execute_input": "2024-03-27T20:04:31.662572Z",
     "iopub.status.busy": "2024-03-27T20:04:31.662169Z",
     "iopub.status.idle": "2024-03-27T20:04:31.668768Z",
     "shell.execute_reply": "2024-03-27T20:04:31.667372Z"
    },
    "papermill": {
     "duration": 0.017552,
     "end_time": "2024-03-27T20:04:31.671676",
     "exception": false,
     "start_time": "2024-03-27T20:04:31.654124",
     "status": "completed"
    },
    "tags": []
   },
   "outputs": [
    {
     "name": "stdout",
     "output_type": "stream",
     "text": [
      "A sentença é falsa!\n"
     ]
    }
   ],
   "source": [
    "# Condicional if...else\n",
    "if 5 < 2:\n",
    "    print(\"A sentença é verdadeira!\")\n",
    "else:\n",
    "    print(\"A sentença é falsa!\")"
   ]
  },
  {
   "cell_type": "markdown",
   "id": "ed4fdd79",
   "metadata": {
    "papermill": {
     "duration": 0.00636,
     "end_time": "2024-03-27T20:04:31.684909",
     "exception": false,
     "start_time": "2024-03-27T20:04:31.678549",
     "status": "completed"
    },
    "tags": []
   },
   "source": [
    "## Manipulando arquivos .txt"
   ]
  },
  {
   "cell_type": "code",
   "execution_count": 7,
   "id": "cf867078",
   "metadata": {
    "execution": {
     "iopub.execute_input": "2024-03-27T20:04:31.700782Z",
     "iopub.status.busy": "2024-03-27T20:04:31.699725Z",
     "iopub.status.idle": "2024-03-27T20:04:31.709555Z",
     "shell.execute_reply": "2024-03-27T20:04:31.708611Z"
    },
    "papermill": {
     "duration": 0.020319,
     "end_time": "2024-03-27T20:04:31.712011",
     "exception": false,
     "start_time": "2024-03-27T20:04:31.691692",
     "status": "completed"
    },
    "tags": []
   },
   "outputs": [],
   "source": [
    "# Abrindo o arquivo para leitura\n",
    "a1 = open(\"/kaggle/input/arquivo-da-aula-4-lia-2024-1/arquivo1.txt.txt\", \"r\")"
   ]
  },
  {
   "cell_type": "code",
   "execution_count": 8,
   "id": "c6728ea3",
   "metadata": {
    "execution": {
     "iopub.execute_input": "2024-03-27T20:04:31.727675Z",
     "iopub.status.busy": "2024-03-27T20:04:31.727285Z",
     "iopub.status.idle": "2024-03-27T20:04:31.735225Z",
     "shell.execute_reply": "2024-03-27T20:04:31.733947Z"
    },
    "papermill": {
     "duration": 0.018869,
     "end_time": "2024-03-27T20:04:31.737705",
     "exception": false,
     "start_time": "2024-03-27T20:04:31.718836",
     "status": "completed"
    },
    "tags": []
   },
   "outputs": [
    {
     "name": "stdout",
     "output_type": "stream",
     "text": [
      "Testando\n"
     ]
    }
   ],
   "source": [
    "# Lendo o arquivo\n",
    "print(a1.read())"
   ]
  },
  {
   "cell_type": "code",
   "execution_count": 9,
   "id": "e7488a79",
   "metadata": {
    "execution": {
     "iopub.execute_input": "2024-03-27T20:04:31.755093Z",
     "iopub.status.busy": "2024-03-27T20:04:31.754710Z",
     "iopub.status.idle": "2024-03-27T20:04:31.759636Z",
     "shell.execute_reply": "2024-03-27T20:04:31.758563Z"
    },
    "papermill": {
     "duration": 0.01728,
     "end_time": "2024-03-27T20:04:31.762014",
     "exception": false,
     "start_time": "2024-03-27T20:04:31.744734",
     "status": "completed"
    },
    "tags": []
   },
   "outputs": [],
   "source": [
    "# Abrindo o arquivo para gravação\n",
    "a2 = open(\"/kaggle/working/arquivo2.txt\", \"w\")"
   ]
  },
  {
   "cell_type": "code",
   "execution_count": 10,
   "id": "6ab32a4c",
   "metadata": {
    "execution": {
     "iopub.execute_input": "2024-03-27T20:04:31.778561Z",
     "iopub.status.busy": "2024-03-27T20:04:31.778190Z",
     "iopub.status.idle": "2024-03-27T20:04:31.784386Z",
     "shell.execute_reply": "2024-03-27T20:04:31.783275Z"
    },
    "papermill": {
     "duration": 0.017413,
     "end_time": "2024-03-27T20:04:31.786814",
     "exception": false,
     "start_time": "2024-03-27T20:04:31.769401",
     "status": "completed"
    },
    "tags": []
   },
   "outputs": [
    {
     "data": {
      "text/plain": [
       "28"
      ]
     },
     "execution_count": 10,
     "metadata": {},
     "output_type": "execute_result"
    }
   ],
   "source": [
    "# Gravando no arquivo\n",
    "a2.write(\"Aprendendo Python em 2024/1!\")"
   ]
  },
  {
   "cell_type": "code",
   "execution_count": 11,
   "id": "8572e73c",
   "metadata": {
    "execution": {
     "iopub.execute_input": "2024-03-27T20:04:31.802522Z",
     "iopub.status.busy": "2024-03-27T20:04:31.802094Z",
     "iopub.status.idle": "2024-03-27T20:04:31.808040Z",
     "shell.execute_reply": "2024-03-27T20:04:31.806818Z"
    },
    "papermill": {
     "duration": 0.01672,
     "end_time": "2024-03-27T20:04:31.810572",
     "exception": false,
     "start_time": "2024-03-27T20:04:31.793852",
     "status": "completed"
    },
    "tags": []
   },
   "outputs": [],
   "source": [
    "# Abrindo o arquivo para gravação\n",
    "a2 = open(\"/kaggle/working/arquivo2.txt\", \"r\")"
   ]
  },
  {
   "cell_type": "code",
   "execution_count": 12,
   "id": "8fa2b7e7",
   "metadata": {
    "execution": {
     "iopub.execute_input": "2024-03-27T20:04:31.827656Z",
     "iopub.status.busy": "2024-03-27T20:04:31.827296Z",
     "iopub.status.idle": "2024-03-27T20:04:31.832599Z",
     "shell.execute_reply": "2024-03-27T20:04:31.831380Z"
    },
    "papermill": {
     "duration": 0.01708,
     "end_time": "2024-03-27T20:04:31.835660",
     "exception": false,
     "start_time": "2024-03-27T20:04:31.818580",
     "status": "completed"
    },
    "tags": []
   },
   "outputs": [
    {
     "name": "stdout",
     "output_type": "stream",
     "text": [
      "Aprendendo Python em 2024/1!\n"
     ]
    }
   ],
   "source": [
    "# Lendo o arquivo\n",
    "print(a2.read())"
   ]
  }
 ],
 "metadata": {
  "kaggle": {
   "accelerator": "none",
   "dataSources": [
    {
     "datasetId": 4680190,
     "sourceId": 7956862,
     "sourceType": "datasetVersion"
    },
    {
     "datasetId": 4680309,
     "sourceId": 7957020,
     "sourceType": "datasetVersion"
    }
   ],
   "dockerImageVersionId": 30673,
   "isGpuEnabled": false,
   "isInternetEnabled": false,
   "language": "python",
   "sourceType": "notebook"
  },
  "kernelspec": {
   "display_name": "Python 3",
   "language": "python",
   "name": "python3"
  },
  "language_info": {
   "codemirror_mode": {
    "name": "ipython",
    "version": 3
   },
   "file_extension": ".py",
   "mimetype": "text/x-python",
   "name": "python",
   "nbconvert_exporter": "python",
   "pygments_lexer": "ipython3",
   "version": "3.10.13"
  },
  "papermill": {
   "default_parameters": {},
   "duration": 4.020949,
   "end_time": "2024-03-27T20:04:32.263973",
   "environment_variables": {},
   "exception": null,
   "input_path": "__notebook__.ipynb",
   "output_path": "__notebook__.ipynb",
   "parameters": {},
   "start_time": "2024-03-27T20:04:28.243024",
   "version": "2.5.0"
  }
 },
 "nbformat": 4,
 "nbformat_minor": 5
}
